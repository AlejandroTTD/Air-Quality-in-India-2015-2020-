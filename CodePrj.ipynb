{
    "cells": [
        {
            "cell_type": "markdown",
            "id": "3f31a98e",
            "metadata": {},
            "source": [
                "<h3 style=\"text-align: left; color: red;\">Librerías importadas</h3>\n",
                "\n",
                "A continuación, se describe el uso de cada librería en nuestro proyecto:\n",
                "- pandas y numpy: Se usan para el manejo óptimo de los archivos \"csv\", ya que manejarlos en su mismo formato lo vuelve complejo de forma innecesaria.\n",
                "- matplotlib y seaborn: Se usan para la obtencion de diagramas y gráficas de los datos.\n",
                "- sklearn: Se usó esta librería contiene todos los métodos de imputación a usarse previo al modelado.\n",
                "- os, shutil y glob: Se usaron estas librerías para el correcto manejo y organización de los archivos obtenidos.\n",
                "- Parallel y delayed: Se usaron estas librerías para el procesamiento en paralelo de los archivos csv, ya que procesarlos de forma secuencial requiere una gran cantidad de recursos."
            ]
        },
        {
            "cell_type": "code",
            "execution_count": 149,
            "id": "ad5efb20",
            "metadata": {},
            "outputs": [],
            "source": [
                "import pandas as pd\n",
                "import numpy as np\n",
                "import seaborn as sns\n",
                "import matplotlib.pyplot as plt\n",
                "from sklearn.impute import KNNImputer, SimpleImputer\n",
                "from sklearn.decomposition import PCA\n",
                "from sklearn.preprocessing import StandardScaler\n",
                "from joblib import Parallel, delayed\n",
                "import os\n",
                "import shutil\n",
                "import glob"
            ]
        },
        {
            "cell_type": "markdown",
            "id": "f50c0f9d",
            "metadata": {},
            "source": [
                "<h3 style=\"text-align: left; color: red;\">Lectura de csv's</h3>\n",
                "\n",
                "Leemos los archivos que se encuentran en la carpeta desde donde se ejecuta el código y los movemos a la carpeta \"Archivos No Imputados\""
            ]
        },
        {
            "cell_type": "code",
            "execution_count": 150,
            "id": "f2717674",
            "metadata": {},
            "outputs": [
                {
                    "name": "stdout",
                    "output_type": "stream",
                    "text": [
                        "city_day.csv leido y movido a la carpeta Archivos No Imputados\n",
                        "city_hour.csv leido y movido a la carpeta Archivos No Imputados\n",
                        "station_day.csv leido y movido a la carpeta Archivos No Imputados\n",
                        "station_hour.csv leido y movido a la carpeta Archivos No Imputados\n",
                        "stations.csv leido y movido a la carpeta Archivos No Imputados\n"
                    ]
                }
            ],
            "source": [
                "ruta_archivos_csv_origen = os.getcwd() # Obtenemos la ruta desde donde se ejecuta el Notebook\n",
                "ruta_archivos_csv_destino = os.path.join(ruta_archivos_csv_origen, \"Archivos No Imputados\") # Definimos la ruta hacia donde van los archivos csv despues de leerse\n",
                "os.makedirs(\"Archivos No Imputados\", exist_ok = True) # Creamos la carpeta si no existe\n",
                "\n",
                "\n",
                "def leer_mover_archivos (nombre_archivo_csv):\n",
                "    ruta_origen_archivos_csv = os.path.join(ruta_archivos_csv_origen, nombre_archivo_csv) # Definimos la ruta actual del archivo csv\n",
                "    ruta_carpeta_archivos_csv = os.path.join(ruta_archivos_csv_destino, nombre_archivo_csv) # Definimos la ruta donde deberia estar el archivo tras ejecutarse el codigo\n",
                "\n",
                "    # Si el archivo se encuentra en la ruta de origen (desde donde se ejecuta el notebook)\n",
                "    if os.path.exists(ruta_origen_archivos_csv): \n",
                "\n",
                "        archivo_pandas = pd.read_csv(ruta_origen_archivos_csv, low_memory = False) # Leemos el archivo csv\n",
                "        archivo_pandas = archivo_pandas.reset_index(drop = True) \n",
                "        shutil.move(ruta_origen_archivos_csv, ruta_carpeta_archivos_csv) # Movemos el archivo csv desde la ruta de origen hacia la carpeta Archivos No Imputados\n",
                "        print(f\"{nombre_archivo_csv} leido y movido a la carpeta Archivos No Imputados\")\n",
                "        return archivo_pandas\n",
                "    \n",
                "    # Si el archivo se encuentra dentro de la carpeta \"Archivos No Imputados\"\n",
                "    elif os.path.exists(ruta_carpeta_archivos_csv):\n",
                "\n",
                "        archivo_pandas = pd.read_csv(ruta_carpeta_archivos_csv, low_memory = False) # Leemos el archivo csv\n",
                "        archivo_pandas = archivo_pandas.reset_index(drop = True)\n",
                "        print(f\"{nombre_archivo_csv} ya se encuentra en Archivos No Imputados. Leyendo de nuevo\")\n",
                "        return archivo_pandas\n",
                "    \n",
                "    # Si el archivo no se encuentra en ninguna carpeta accesible por nuestro codigo\n",
                "    else: \n",
                "\n",
                "        print(f\"No se encontro el archivo {nombre_archivo_csv}\")\n",
                "        return None\n",
                "       \n",
                "ciudad_dia    = leer_mover_archivos(\"city_day.csv\")\n",
                "ciudad_hora   = leer_mover_archivos(\"city_hour.csv\")\n",
                "estacion_dia  = leer_mover_archivos(\"station_day.csv\")\n",
                "estacion_hora = leer_mover_archivos(\"station_hour.csv\")\n",
                "estaciones    = leer_mover_archivos(\"stations.csv\")\n",
                "\n",
                "\n",
                "# Creamos un diccionario con los nombres de los archivos csv y el nombre con el que se guardaran los archivos \n",
                "# lista = {\n",
                "#     \"ciudad_dia\":\"city_day.csv\",\n",
                "#     \"ciudad_hora\":\"city_hour.csv\",\n",
                "#     \"estacion_dia\":\"station_day.csv\",\n",
                "#     \"estacion_hora\":\"station_hour.csv\",\n",
                "#     \"estaciones\":\"stations.csv\"\n",
                "#     }\n",
                "\n",
                "# class FicheroArchivos:\n",
                "#     listaDataFrames = []\n",
                "#     def __init__(self, listaCSV):\n",
                "        \n",
                "#         for x,y in listaCSV.items():\n",
                "#             self.listaDataFrames.append(leer_mover_archivos(y)) \n",
                "# a = FicheroArchivos(lista)\n",
                "# a.listaDataFrames[0]"
            ]
        },
        {
            "cell_type": "markdown",
            "id": "70beb36a",
            "metadata": {},
            "source": [
                "Para la obtener más claridad acerca de las columnas y el tipo de datos, usamos describe() e info() para filtrar lo que necesitamos usar."
            ]
        },
        {
            "cell_type": "markdown",
            "id": "003149b6",
            "metadata": {},
            "source": [
                "<h3 style=\"text-align: left; color: red;\">Datos por Ciudad-día y filtrado</h3>"
            ]
        },
        {
            "cell_type": "code",
            "execution_count": 151,
            "id": "a60bd261",
            "metadata": {},
            "outputs": [
                {
                    "name": "stdout",
                    "output_type": "stream",
                    "text": [
                        "<class 'pandas.core.frame.DataFrame'>\n",
                        "RangeIndex: 29531 entries, 0 to 29530\n",
                        "Data columns (total 16 columns):\n",
                        " #   Column      Non-Null Count  Dtype  \n",
                        "---  ------      --------------  -----  \n",
                        " 0   City        29531 non-null  object \n",
                        " 1   Date        29531 non-null  object \n",
                        " 2   PM2.5       24933 non-null  float64\n",
                        " 3   PM10        18391 non-null  float64\n",
                        " 4   NO          25949 non-null  float64\n",
                        " 5   NO2         25946 non-null  float64\n",
                        " 6   NOx         25346 non-null  float64\n",
                        " 7   NH3         19203 non-null  float64\n",
                        " 8   CO          27472 non-null  float64\n",
                        " 9   SO2         25677 non-null  float64\n",
                        " 10  O3          25509 non-null  float64\n",
                        " 11  Benzene     23908 non-null  float64\n",
                        " 12  Toluene     21490 non-null  float64\n",
                        " 13  Xylene      11422 non-null  float64\n",
                        " 14  AQI         24850 non-null  float64\n",
                        " 15  AQI_Bucket  24850 non-null  object \n",
                        "dtypes: float64(13), object(3)\n",
                        "memory usage: 3.6+ MB\n"
                    ]
                }
            ],
            "source": [
                "ciudad_dia.describe()\n",
                "ciudad_dia.info()"
            ]
        },
        {
            "cell_type": "code",
            "execution_count": 152,
            "id": "7e71cfab",
            "metadata": {},
            "outputs": [
                {
                    "name": "stdout",
                    "output_type": "stream",
                    "text": [
                        "<class 'pandas.core.frame.DataFrame'>\n",
                        "RangeIndex: 29531 entries, 0 to 29530\n",
                        "Data columns (total 9 columns):\n",
                        " #   Column  Non-Null Count  Dtype  \n",
                        "---  ------  --------------  -----  \n",
                        " 0   City    29531 non-null  object \n",
                        " 1   Date    29531 non-null  object \n",
                        " 2   PM2.5   24933 non-null  float64\n",
                        " 3   PM10    18391 non-null  float64\n",
                        " 4   NO2     25946 non-null  float64\n",
                        " 5   CO      27472 non-null  float64\n",
                        " 6   SO2     25677 non-null  float64\n",
                        " 7   O3      25509 non-null  float64\n",
                        " 8   AQI     24850 non-null  float64\n",
                        "dtypes: float64(7), object(2)\n",
                        "memory usage: 2.0+ MB\n"
                    ]
                }
            ],
            "source": [
                "# Descartamos las variables que no serán usadas, dejando las string para su posterior union\n",
                "ciudad_dia_filtrado_string = ciudad_dia[['City', 'Date', 'PM2.5', 'PM10', 'NO2', 'CO', 'SO2', 'O3', 'AQI']]\n",
                "ciudad_dia_filtrado_string.info()"
            ]
        },
        {
            "cell_type": "markdown",
            "id": "5c721450",
            "metadata": {},
            "source": [
                "<h3 style=\"text-align: left; color: red;\">Datos por Ciudad-hora y filtrado</h3>"
            ]
        },
        {
            "cell_type": "code",
            "execution_count": 153,
            "id": "cf547e97",
            "metadata": {},
            "outputs": [
                {
                    "name": "stdout",
                    "output_type": "stream",
                    "text": [
                        "<class 'pandas.core.frame.DataFrame'>\n",
                        "RangeIndex: 707875 entries, 0 to 707874\n",
                        "Data columns (total 16 columns):\n",
                        " #   Column      Non-Null Count   Dtype  \n",
                        "---  ------      --------------   -----  \n",
                        " 0   City        707875 non-null  object \n",
                        " 1   Datetime    707875 non-null  object \n",
                        " 2   PM2.5       562787 non-null  float64\n",
                        " 3   PM10        411138 non-null  float64\n",
                        " 4   NO          591243 non-null  float64\n",
                        " 5   NO2         590753 non-null  float64\n",
                        " 6   NOx         584651 non-null  float64\n",
                        " 7   NH3         435333 non-null  float64\n",
                        " 8   CO          621358 non-null  float64\n",
                        " 9   SO2         577502 non-null  float64\n",
                        " 10  O3          578667 non-null  float64\n",
                        " 11  Benzene     544229 non-null  float64\n",
                        " 12  Toluene     487268 non-null  float64\n",
                        " 13  Xylene      252046 non-null  float64\n",
                        " 14  AQI         578795 non-null  float64\n",
                        " 15  AQI_Bucket  578795 non-null  object \n",
                        "dtypes: float64(13), object(3)\n",
                        "memory usage: 86.4+ MB\n"
                    ]
                }
            ],
            "source": [
                "ciudad_hora.describe()\n",
                "ciudad_hora.info()"
            ]
        },
        {
            "cell_type": "code",
            "execution_count": 154,
            "id": "3469c181",
            "metadata": {},
            "outputs": [
                {
                    "name": "stdout",
                    "output_type": "stream",
                    "text": [
                        "<class 'pandas.core.frame.DataFrame'>\n",
                        "RangeIndex: 707875 entries, 0 to 707874\n",
                        "Data columns (total 9 columns):\n",
                        " #   Column    Non-Null Count   Dtype  \n",
                        "---  ------    --------------   -----  \n",
                        " 0   City      707875 non-null  object \n",
                        " 1   Datetime  707875 non-null  object \n",
                        " 2   PM2.5     562787 non-null  float64\n",
                        " 3   PM10      411138 non-null  float64\n",
                        " 4   NO2       590753 non-null  float64\n",
                        " 5   CO        621358 non-null  float64\n",
                        " 6   SO2       577502 non-null  float64\n",
                        " 7   O3        578667 non-null  float64\n",
                        " 8   AQI       578795 non-null  float64\n",
                        "dtypes: float64(7), object(2)\n",
                        "memory usage: 48.6+ MB\n"
                    ]
                }
            ],
            "source": [
                "# Descartamos las variables que no serán usadas, dejando las string para su posterior union\n",
                "ciudad_hora_filtrado_string = ciudad_hora[['City', 'Datetime', 'PM2.5', 'PM10', 'NO2', 'CO', 'SO2', 'O3', 'AQI']]\n",
                "ciudad_hora_filtrado_string.info()"
            ]
        },
        {
            "cell_type": "markdown",
            "id": "4dcf79e4",
            "metadata": {},
            "source": [
                "<h3 style=\"text-align: left; color: red;\">Datos por Estación-día y filtrado</h3>\n"
            ]
        },
        {
            "cell_type": "code",
            "execution_count": 155,
            "id": "b061d13d",
            "metadata": {},
            "outputs": [
                {
                    "name": "stdout",
                    "output_type": "stream",
                    "text": [
                        "<class 'pandas.core.frame.DataFrame'>\n",
                        "RangeIndex: 108035 entries, 0 to 108034\n",
                        "Data columns (total 16 columns):\n",
                        " #   Column      Non-Null Count   Dtype  \n",
                        "---  ------      --------------   -----  \n",
                        " 0   StationId   108035 non-null  object \n",
                        " 1   Date        108035 non-null  object \n",
                        " 2   PM2.5       86410 non-null   float64\n",
                        " 3   PM10        65329 non-null   float64\n",
                        " 4   NO          90929 non-null   float64\n",
                        " 5   NO2         91488 non-null   float64\n",
                        " 6   NOx         92535 non-null   float64\n",
                        " 7   NH3         59930 non-null   float64\n",
                        " 8   CO          95037 non-null   float64\n",
                        " 9   SO2         82831 non-null   float64\n",
                        " 10  O3          82467 non-null   float64\n",
                        " 11  Benzene     76580 non-null   float64\n",
                        " 12  Toluene     69333 non-null   float64\n",
                        " 13  Xylene      22898 non-null   float64\n",
                        " 14  AQI         87025 non-null   float64\n",
                        " 15  AQI_Bucket  87025 non-null   object \n",
                        "dtypes: float64(13), object(3)\n",
                        "memory usage: 13.2+ MB\n"
                    ]
                }
            ],
            "source": [
                "estacion_dia.describe()\n",
                "estacion_dia.info()"
            ]
        },
        {
            "cell_type": "code",
            "execution_count": 156,
            "id": "f2808f28",
            "metadata": {},
            "outputs": [
                {
                    "name": "stdout",
                    "output_type": "stream",
                    "text": [
                        "<class 'pandas.core.frame.DataFrame'>\n",
                        "RangeIndex: 108035 entries, 0 to 108034\n",
                        "Data columns (total 8 columns):\n",
                        " #   Column  Non-Null Count   Dtype  \n",
                        "---  ------  --------------   -----  \n",
                        " 0   Date    108035 non-null  object \n",
                        " 1   PM2.5   86410 non-null   float64\n",
                        " 2   PM10    65329 non-null   float64\n",
                        " 3   NO2     91488 non-null   float64\n",
                        " 4   CO      95037 non-null   float64\n",
                        " 5   SO2     82831 non-null   float64\n",
                        " 6   O3      82467 non-null   float64\n",
                        " 7   AQI     87025 non-null   float64\n",
                        "dtypes: float64(7), object(1)\n",
                        "memory usage: 6.6+ MB\n"
                    ]
                }
            ],
            "source": [
                "# Descartamos las variables que no serán usadas, dejando las string para su posterior union\n",
                "estacion_dia_filtrado_string = estacion_dia[['Date', 'PM2.5', 'PM10', 'NO2', 'CO', 'SO2', 'O3', 'AQI']]\n",
                "estacion_dia_filtrado_string.info()"
            ]
        },
        {
            "cell_type": "markdown",
            "id": "0ffb203d",
            "metadata": {},
            "source": [
                "<h3 style=\"text-align: left; color: red;\">Datos por Estación-hora y filtrado</h3>\n"
            ]
        },
        {
            "cell_type": "code",
            "execution_count": 157,
            "id": "7fd994a9",
            "metadata": {},
            "outputs": [
                {
                    "name": "stdout",
                    "output_type": "stream",
                    "text": [
                        "<class 'pandas.core.frame.DataFrame'>\n",
                        "RangeIndex: 2589083 entries, 0 to 2589082\n",
                        "Data columns (total 16 columns):\n",
                        " #   Column      Dtype  \n",
                        "---  ------      -----  \n",
                        " 0   StationId   object \n",
                        " 1   Datetime    object \n",
                        " 2   PM2.5       float64\n",
                        " 3   PM10        float64\n",
                        " 4   NO          float64\n",
                        " 5   NO2         float64\n",
                        " 6   NOx         float64\n",
                        " 7   NH3         float64\n",
                        " 8   CO          float64\n",
                        " 9   SO2         float64\n",
                        " 10  O3          float64\n",
                        " 11  Benzene     float64\n",
                        " 12  Toluene     float64\n",
                        " 13  Xylene      float64\n",
                        " 14  AQI         float64\n",
                        " 15  AQI_Bucket  object \n",
                        "dtypes: float64(13), object(3)\n",
                        "memory usage: 316.1+ MB\n"
                    ]
                }
            ],
            "source": [
                "estacion_hora.describe()\n",
                "estacion_hora.info()"
            ]
        },
        {
            "cell_type": "code",
            "execution_count": 158,
            "id": "e9f0b2ce",
            "metadata": {},
            "outputs": [
                {
                    "name": "stdout",
                    "output_type": "stream",
                    "text": [
                        "<class 'pandas.core.frame.DataFrame'>\n",
                        "RangeIndex: 2589083 entries, 0 to 2589082\n",
                        "Data columns (total 8 columns):\n",
                        " #   Column    Dtype  \n",
                        "---  ------    -----  \n",
                        " 0   Datetime  object \n",
                        " 1   PM2.5     float64\n",
                        " 2   PM10      float64\n",
                        " 3   NO2       float64\n",
                        " 4   CO        float64\n",
                        " 5   SO2       float64\n",
                        " 6   O3        float64\n",
                        " 7   AQI       float64\n",
                        "dtypes: float64(7), object(1)\n",
                        "memory usage: 158.0+ MB\n"
                    ]
                }
            ],
            "source": [
                "# Descartamos las variables que no serán usadas, dejando las string para su posterior union\n",
                "estacion_hora_filtrado_string = estacion_hora[['Datetime', 'PM2.5', 'PM10', 'NO2', 'CO', 'SO2', 'O3', 'AQI']]\n",
                "estacion_hora_filtrado_string.info()"
            ]
        },
        {
            "cell_type": "markdown",
            "id": "503d256d",
            "metadata": {},
            "source": [
                "<h3 style=\"text-align: left; color: red;\">Datos de Estaciones</h3>\n",
                "\n",
                "Este archivo al solo contener un id y campos de tipo objeto/string, no será usado directamente para la imputación. Tiene una función importante en la unión de \"tablas\" por su campo \"StationId\""
            ]
        },
        {
            "cell_type": "code",
            "execution_count": 159,
            "id": "fefa3b9f",
            "metadata": {},
            "outputs": [
                {
                    "name": "stdout",
                    "output_type": "stream",
                    "text": [
                        "<class 'pandas.core.frame.DataFrame'>\n",
                        "RangeIndex: 230 entries, 0 to 229\n",
                        "Data columns (total 5 columns):\n",
                        " #   Column       Non-Null Count  Dtype \n",
                        "---  ------       --------------  ----- \n",
                        " 0   StationId    230 non-null    object\n",
                        " 1   StationName  230 non-null    object\n",
                        " 2   City         230 non-null    object\n",
                        " 3   State        230 non-null    object\n",
                        " 4   Status       133 non-null    object\n",
                        "dtypes: object(5)\n",
                        "memory usage: 9.1+ KB\n"
                    ]
                }
            ],
            "source": [
                "estaciones.describe()\n",
                "estaciones.info()"
            ]
        },
        {
            "cell_type": "markdown",
            "id": "38d1d4f1",
            "metadata": {},
            "source": [
                "<h3 style=\"text-align: left; color: red;\">Función para contar los valores NaN totales</h3>"
            ]
        },
        {
            "cell_type": "code",
            "execution_count": 160,
            "id": "dc663718",
            "metadata": {},
            "outputs": [
                {
                    "name": "stdout",
                    "output_type": "stream",
                    "text": [
                        "Valores NaN del csv ciudad-hora:  366370\n",
                        "Valores NaN del csv ciudad-dia:  13521\n"
                    ]
                },
                {
                    "name": "stderr",
                    "output_type": "stream",
                    "text": [
                        "C:\\Users\\david\\AppData\\Local\\Temp\\ipykernel_13804\\2595521705.py:3: DtypeWarning: Columns (15) have mixed types. Specify dtype option on import or set low_memory=False.\n",
                        "  archivo = pd.read_csv(nombre_archivo_csv)\n"
                    ]
                },
                {
                    "name": "stdout",
                    "output_type": "stream",
                    "text": [
                        "Valores NaN del csv estacion-hora:  1554807\n",
                        "Valores NaN del csv estacion-dia:  58038\n"
                    ]
                }
            ],
            "source": [
                "# Definimos una funcion para verificar los valores NaN que tenemos en cada fila, si al menos existe 1 valor NaN en la fila, toda la fila se declara como tal\n",
                "def contar_filas_con_nan_en_columnas_especificas(nombre_archivo_csv):\n",
                "    archivo = pd.read_csv(nombre_archivo_csv)\n",
                "    \n",
                "    variables = ['PM2.5', 'PM10', 'NO2', 'CO', 'SO2', 'O3', 'AQI']\n",
                "    archivo_filtrado = archivo[variables]\n",
                "    \n",
                "    filas_con_nan = archivo_filtrado.isna().any(axis = 1) # axis = 1 ya que revisamos por fila, operando a lo largo de las columnas\n",
                "    cantidad_filas_con_nan = filas_con_nan.sum() # Sumamos las filas que contienen al menos un campo en NaN\n",
                "    \n",
                "    return cantidad_filas_con_nan\n",
                "\n",
                "print(\"Valores NaN del csv ciudad-hora: \",contar_filas_con_nan_en_columnas_especificas(\"Archivos no imputados/city_hour.csv\"))\n",
                "print(\"Valores NaN del csv ciudad-dia: \",contar_filas_con_nan_en_columnas_especificas(\"Archivos no imputados/city_day.csv\"))\n",
                "print(\"Valores NaN del csv estacion-hora: \",contar_filas_con_nan_en_columnas_especificas(\"Archivos no imputados/station_hour.csv\"))\n",
                "print(\"Valores NaN del csv estacion-dia: \",contar_filas_con_nan_en_columnas_especificas(\"Archivos no imputados/station_day.csv\"))"
            ]
        },
        {
            "cell_type": "markdown",
            "id": "38b584cd",
            "metadata": {},
            "source": [
                "<h4 style=\"text-align: left; color: red;\">Imputación mediante SimpleImputer, KNN y PCA en paralelo</h4>\n",
                "\n",
                "A continuación, definimos las funciones que conforman la función principal para imputar nuestros valores vacíos mediante un barrido rápido con SimpleImputer y un posterior complemento con KNN y PCA. Esto en división por \"chunks\" o bloques para ejecutar los procesos en paralelo y optimizar los recursos limitados del dispositivo. "
            ]
        },
        {
            "cell_type": "markdown",
            "id": "65c09c2d",
            "metadata": {},
            "source": [
                "<h5 style=\"text-align: left; color: red;\">Función de barrido inicial con SimpleImputer</h5>\n",
                "\n",
                "Para que el barrido sea rápido, se utilizo el parámetro \"mean\" de SimpleImputer, que toma la media de la columna para reemplazar los valores faltantes. Todo esto preservando las columnas e índices del archivo original."
            ]
        }
    ],
    "metadata": {
        "kernelspec": {
            "display_name": "base",
            "language": "python",
            "name": "python3"
        },
        "language_info": {
            "name": "python",
            "version": "3.12.7"
        }
    },
    "nbformat": 4,
    "nbformat_minor": 5
}
